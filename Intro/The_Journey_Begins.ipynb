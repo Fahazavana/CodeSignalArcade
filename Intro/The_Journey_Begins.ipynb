{
 "cells": [
  {
   "attachments": {},
   "cell_type": "markdown",
   "metadata": {},
   "source": [
    "# The Journey Begins"
   ]
  },
  {
   "attachments": {},
   "cell_type": "markdown",
   "metadata": {},
   "source": [
    "## Challenge 1\n",
    "Write a function that returns the sum of two numbers.\n",
    "\n",
    "### Example\n",
    "\n",
    "For ```param1 = 1``` and  ``param2 = 2``, the output should be ``solution(param1, param2) = 3``.\n",
    "### Input/Output\n",
    "*    [execution time limit] 4 seconds (py3)\n",
    "*    [input] integer param1\n",
    "        Guaranteed constraints: $-1000 \\leq param1 \\leq 1000$.\n",
    "*    [input] integer param2\n",
    "        Guaranteed constraints: $-1000 \\leq param2 \\leq 1000$.\n",
    "*    [output] integer\n",
    "    The sum of the two inputs."
   ]
  },
  {
   "cell_type": "code",
   "execution_count": null,
   "metadata": {},
   "outputs": [],
   "source": [
    "def solution(param1, param2):\n",
    "    return param1 + param2\n"
   ]
  },
  {
   "attachments": {},
   "cell_type": "markdown",
   "metadata": {},
   "source": [
    "## Challenge 2\n",
    "\n",
    "Given a year, return the century it is in. The first century spans from the year 1 up to and including the year 100, the second - from the year 101 up to and including the year 200, etc.\n",
    "\n",
    "### Example\n",
    "\n",
    "*    For ``year = 1905``, the output should be solution(year) = 20;\n",
    "*    For ``year = 1700``, the output should be ``solution(year) = 17``.\n",
    "\n",
    "### Input/Output\n",
    "\n",
    "*    [execution time limit] 4 seconds (py3)\n",
    "*    [input] integer year : A positive integer, designating the year.\n",
    "*    Guaranteed constraints: $1 \\leq year \\leq 2005$.\n",
    "*    [output] integer:    The number of the century the year is in.\n"
   ]
  },
  {
   "cell_type": "code",
   "execution_count": 1,
   "metadata": {},
   "outputs": [],
   "source": [
    "def solution(year):\n",
    "    r = 1\n",
    "    while (year - 100 > 0):\n",
    "        r += 1\n",
    "        year = year - 100\n",
    "    return r\n"
   ]
  },
  {
   "cell_type": "code",
   "execution_count": null,
   "metadata": {},
   "outputs": [],
   "source": [
    "from math import ceil\n",
    "\n",
    "\n",
    "def solution(year):\n",
    "    return ceil(year/100)\n"
   ]
  },
  {
   "attachments": {},
   "cell_type": "markdown",
   "metadata": {},
   "source": [
    "## Challenge 3\n",
    "\n",
    "Given the string, check if it is a palindrome.\n",
    "\n",
    "### Example\n",
    "*   For ```inputString = \"aabaa\"```, the output should be ```solution(inputString) = true```;\n",
    "*   For ```inputString = \"abac\"```, the output should be ```solution(inputString) = false```;\n",
    "*   For ```inputString = \"a\"```, the output should be ```solution(inputString) = true```.\n",
    "\n",
    "### Input/Output\n",
    "\n",
    "*    [execution time limit] 4 seconds (py3)\n",
    "*    [input] string inputString : A non-empty string consisting of lowercase characters.\n",
    "*    Guaranteed constraints: $1 \\leq inputString.length \\leq 105$.\n",
    "*   [output] boolean : true if inputString is a palindrome, false otherwise.\n"
   ]
  },
  {
   "cell_type": "code",
   "execution_count": 4,
   "metadata": {},
   "outputs": [],
   "source": [
    "def solution(inputString):\n",
    "    return inputString == inputString[::-1]\n"
   ]
  },
  {
   "cell_type": "code",
   "execution_count": null,
   "metadata": {},
   "outputs": [],
   "source": []
  }
 ],
 "metadata": {
  "kernelspec": {
   "display_name": "Python 3",
   "language": "python",
   "name": "python3"
  },
  "language_info": {
   "codemirror_mode": {
    "name": "ipython",
    "version": 3
   },
   "file_extension": ".py",
   "mimetype": "text/x-python",
   "name": "python",
   "nbconvert_exporter": "python",
   "pygments_lexer": "ipython3",
   "version": "3.10.6"
  },
  "orig_nbformat": 4,
  "vscode": {
   "interpreter": {
    "hash": "916dbcbb3f70747c44a77c7bcd40155683ae19c65e1c03b4aa3499c5328201f1"
   }
  }
 },
 "nbformat": 4,
 "nbformat_minor": 2
}
