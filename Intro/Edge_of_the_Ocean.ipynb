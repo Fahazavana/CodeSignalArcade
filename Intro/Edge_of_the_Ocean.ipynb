{
 "cells": [
  {
   "attachments": {},
   "cell_type": "markdown",
   "metadata": {},
   "source": [
    "# Edge of the Ocean"
   ]
  },
  {
   "attachments": {},
   "cell_type": "markdown",
   "metadata": {},
   "source": [
    "## 4 : adjacentElementsProduct\n",
    "\n",
    "Given an array of integers, find the pair of adjacent elements that has the largest product and return that product.\n",
    "\n",
    "### Example\n",
    "\n",
    "For ``inputArray = [3, 6, -2, -5, 7, 3]``, the output should be``solution(inputArray) = 21``. 7 and 3 produce the largest product.\n",
    "\n",
    "### Input/Output\n",
    "\n",
    "*    [execution time limit] 4 seconds (py3)\n",
    "*    [input] array.integer inputArray: An array of integers containing at least two elements.\n",
    "*    Guaranteed constraints:\n",
    "        *   $2 \\leq inputArray.length \\leq 10$,\n",
    "        *   $-1000 \\leq inputArray[i] \\leq 1000$.\n",
    "\n",
    "\n",
    "* [output] integer:   The largest product of adjacent elements.\n"
   ]
  },
  {
   "cell_type": "code",
   "execution_count": 1,
   "metadata": {},
   "outputs": [],
   "source": [
    "def solution(inputArray):\n",
    "    i = 0\n",
    "    maxi = inputArray[i]*inputArray[i+1]\n",
    "    i = 1\n",
    "    while i < (len(inputArray)-1):\n",
    "        p = inputArray[i]*inputArray[i+1]\n",
    "        if maxi < p:\n",
    "            maxi = p\n",
    "        i += 1\n",
    "    return maxi"
   ]
  },
  {
   "attachments": {},
   "cell_type": "markdown",
   "metadata": {},
   "source": [
    "## 5 : shapeArea\n",
    "\n",
    "Below we will define an n-interesting polygon. Your task is to find the area of a polygon for a given n.\n",
    "\n",
    "A 1-interesting polygon is just a square with a side of length 1. An n-interesting polygon is obtained by taking the n - 1-interesting polygon and appending 1-interesting polygons to its rim, side by side. You can see the 1-, 2-, 3- and 4-interesting polygons in the picture below.\n",
    "\n",
    "![](img/area.png)\n",
    "\n",
    "### Example\n",
    "*    For ``n = 2``, the output should be   ```solution(n) = 5```;\n",
    "*    For ``n = 3``, the output should be   ``solution(n) = 13``.\n",
    "### Input/Output\n",
    "\n",
    "*    [execution time limit] 4 seconds (js)\n",
    "*   [input] integer n\n",
    "*   Guaranteed constraints: \n",
    "    *   $1 \\leq n \\leq 10^4$.\n",
    "*   [output] integer :The area of the n-interesting polygon.\n"
   ]
  },
  {
   "cell_type": "code",
   "execution_count": 2,
   "metadata": {
    "vscode": {
     "languageId": "javascript"
    }
   },
   "outputs": [
    {
     "ename": "SyntaxError",
     "evalue": "invalid syntax (1285426707.py, line 1)",
     "output_type": "error",
     "traceback": [
      "\u001b[0;36m  Cell \u001b[0;32mIn [2], line 1\u001b[0;36m\u001b[0m\n\u001b[0;31m    function solution(n) {\u001b[0m\n\u001b[0m             ^\u001b[0m\n\u001b[0;31mSyntaxError\u001b[0m\u001b[0;31m:\u001b[0m invalid syntax\n"
     ]
    }
   ],
   "source": [
    "// Javascript\n",
    "function solution(n) {\n",
    "    var tmp=[];\n",
    "    for (var i=1; i<n+1;i++)\n",
    "    {\n",
    "        if (i==1){\n",
    "            tmp.push(1);\n",
    "        }\n",
    "        else{\n",
    "        tmp.push(4*(i-1)+tmp[i-2]);\n",
    "        }\n",
    "    }\n",
    "    return tmp[n-1]\n",
    "}"
   ]
  },
  {
   "attachments": {},
   "cell_type": "markdown",
   "metadata": {},
   "source": [
    "## 6 : Make Array Consecutive 2\n",
    "Ratiorg got statues of different sizes as a present from CodeMaster for his birthday, each statue having an non-negative integer size. \n",
    "\n",
    "Since he likes to make things perfect, he wants to arrange them from smallest to largest so that each statue will be bigger than the previous one exactly by 1. He may need some additional statues to be able to accomplish that. \n",
    "Help him figure out the minimum number of additional statues needed.\n",
    "\n",
    "### Example\n",
    "For ``statues = [6, 2, 3, 8]``, the output should be ``solution(statues) = 3``.\n",
    "Ratiorg needs statues of sizes 4, 5 and 7.\n",
    "\n",
    "### Input/Output\n",
    "\n",
    "*    [execution time limit] 4 seconds (py3)\n",
    "*   [input] array.integer statues : An array of distinct non-negative integers.\n",
    "*    Guaranteed constraints:\n",
    "        *   1 ≤ statues.length ≤ 10,\n",
    "        *   0 ≤ statues[i] ≤ 20.\n",
    "*    [output] integer\n",
    "\n",
    "The minimal number of statues that need to be added to existing statues such that it contains every integer size from an interval [L, R] (for some L, R) and no other sizes.\n",
    "\n"
   ]
  },
  {
   "cell_type": "code",
   "execution_count": 3,
   "metadata": {},
   "outputs": [],
   "source": [
    "def solution(statues):\n",
    "    y=sorted(statues)\n",
    "    need=0\n",
    "    for i in range(y[0],y[len(y)-1]):\n",
    "        if i not in y:\n",
    "            need +=1;\n",
    "    return need"
   ]
  },
  {
   "attachments": {},
   "cell_type": "markdown",
   "metadata": {},
   "source": [
    "## 7 : almostIncreasingSequence\n",
    "\n",
    "Given a sequence of integers as an array, determine whether it is possible to obtain a strictly increasing sequence by removing no more than one element from the array.\n",
    "\n",
    "Note: sequence a0, a1, ..., an is considered to be a strictly increasing if a0 < a1 < ... < an. Sequence containing only one element is also considered to be strictly increasing.\n",
    "\n",
    "### Example\n",
    "*   For ``sequence = [1, 3, 2, 1]``, the output should be ``solution(sequence) = false``.\n",
    "\n",
    "There is no one element in this array that can be removed in order to get a strictly increasing sequence.\n",
    "\n",
    "*    For ``sequence = [1, 3, 2]``, the output should be ```solution(sequence) = true```.\n",
    "\n",
    "    You can remove 3 from the array to get the strictly increasing sequence [1, 2]. Alternately, you can remove 2 to get the strictly increasing sequence [1, 3].\n",
    "\n",
    "### Input/Output\n",
    "\n",
    "*    [execution time limit] 4 seconds (py3)\n",
    "*    [input] array.integer sequence\n",
    "*   Guaranteed constraints:\n",
    "    *   $2 \\leq sequence.length \\leq 10^5$,\n",
    "    *   $2 \\leq sequence[i] \\leq 10^5$.\n",
    "*    [output] boolean : Return true if it is possible to remove one element from the array in order to get a strictly increasing sequence, otherwise return false."
   ]
  },
  {
   "cell_type": "code",
   "execution_count": 4,
   "metadata": {},
   "outputs": [],
   "source": [
    "def solution(sequence):\n",
    "    n = len(sequence)\n",
    "    if n<=2:\n",
    "        return True\n",
    "    else:\n",
    "        counter = 0\n",
    "        index =[] \n",
    "        for i in range(1,n):\n",
    "            if sequence[i]<=sequence[i-1]:\n",
    "                counter +=1\n",
    "                index.append(i)\n",
    "                if counter>1:\n",
    "                    return False\n",
    "        print(index,counter)\n",
    "        if counter >= 1 :\n",
    "            if counter == 1 :\n",
    "                index = index[0]\n",
    "                if (index == 1) or (index == n-1) :\n",
    "                    return True\n",
    "                else:\n",
    "                    if (sequence[index-1]<sequence[index+1]) or  (sequence[index-2]<sequence[index]):\n",
    "                        return True\n",
    "                    else:\n",
    "                        return False\n",
    "            else:\n",
    "                return False\n",
    "        else:\n",
    "            return True\n",
    "                "
   ]
  },
  {
   "attachments": {},
   "cell_type": "markdown",
   "metadata": {},
   "source": [
    "## 8 : matrixElementsSum\n",
    "\n",
    "After becoming famous, the CodeBots decided to move into a new building together. Each of the rooms has a different cost, and some of them are free, but there's a rumour that all the free rooms are haunted! Since the CodeBots are quite superstitious, they refuse to stay in any of the free rooms, or any of the rooms below any of the free rooms.\n",
    "\n",
    "Given matrix, a rectangular matrix of integers, where each value represents the cost of the room, your task is to return the total sum of all rooms that are suitable for the CodeBots (ie: add up all the values that don't appear below a 0).\n",
    "\n",
    "## Example\n",
    "\n",
    "*   For ``matrix = [[0, 1, 1, 2], [0, 5, 0, 0], [2, 0, 3, 3]]``  the output should be: ```solution(matrix) = 9```.\n",
    "\n",
    "![](./img/example1.png)\n",
    "\n",
    "\n",
    "There are several haunted rooms, so we'll disregard them as well as any rooms beneath them. Thus, the answer is $1 + 5 + 1 + 2 = 9$.\n",
    "\n",
    "*   For ``matrix = [[1, 1, 1, 0], [0, 5, 0, 1], [2, 1, 3, 10]]``, the output should be ``solution(matrix) = 9``.\n",
    "\n",
    "![](./img/example2.png)\n",
    "\n",
    "Note that the free room in the final column makes the full column unsuitable for bots (not just the room directly beneath it). Thus, the answer is $1 + 1 + 1 + 5 + 1 = 9$.\n",
    "\n",
    "### Input/Output\n",
    "\n",
    "*    [execution time limit] 4 seconds (py3)\n",
    "*   [input] array.array.integer matrix : A 2-dimensional array of integers representing the cost of each room in the building. A value of 0 indicates that the room is haunted.\n",
    "*   Guaranteed constraints:\n",
    "    *   1 ≤ matrix.length ≤ 5,\n",
    "    *   1 ≤ matrix[i].length ≤ 5,\n",
    "    *   0 ≤ matrix[i][j] ≤ 10.\n",
    "*   [output] integer : The total price of all the rooms that are suitable for the CodeBots to live in.\n",
    "\n",
    "[Pyth"
   ]
  },
  {
   "cell_type": "code",
   "execution_count": null,
   "metadata": {},
   "outputs": [],
   "source": [
    "def solution(matrix):\n",
    "    row = len(matrix)\n",
    "    col = len(matrix[0])\n",
    "    s = 0\n",
    "    bad_col = []\n",
    "    for i in range(row):\n",
    "        for j in range(col):\n",
    "            if matrix[i][j] == 0 :\n",
    "                bad_col.append(j)\n",
    "            if j not in bad_col:\n",
    "                s += matrix[i][j]\n",
    "                \n",
    "    return s"
   ]
  }
 ],
 "metadata": {
  "kernelspec": {
   "display_name": "Python 3",
   "language": "python",
   "name": "python3"
  },
  "language_info": {
   "codemirror_mode": {
    "name": "ipython",
    "version": 3
   },
   "file_extension": ".py",
   "mimetype": "text/x-python",
   "name": "python",
   "nbconvert_exporter": "python",
   "pygments_lexer": "ipython3",
   "version": "3.10.6"
  },
  "orig_nbformat": 4,
  "vscode": {
   "interpreter": {
    "hash": "916dbcbb3f70747c44a77c7bcd40155683ae19c65e1c03b4aa3499c5328201f1"
   }
  }
 },
 "nbformat": 4,
 "nbformat_minor": 2
}
